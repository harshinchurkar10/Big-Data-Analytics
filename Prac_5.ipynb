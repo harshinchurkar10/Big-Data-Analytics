{
 "cells": [
  {
   "cell_type": "markdown",
   "id": "b624cace",
   "metadata": {},
   "source": [
    "# T test\n"
   ]
  },
  {
   "cell_type": "code",
   "execution_count": null,
   "id": "126076fd",
   "metadata": {
    "jupyter": {
     "source_hidden": true
    }
   },
   "outputs": [],
   "source": [
    "# Name : Harsh Inchurkar\n",
    "# Roll no. : 46\n",
    "# Section : 3A"
   ]
  },
  {
   "cell_type": "code",
   "execution_count": null,
   "id": "39150d18",
   "metadata": {},
   "outputs": [],
   "source": [
    "# Aim : To perform and analysis of T Test parametric Test"
   ]
  },
  {
   "cell_type": "code",
   "execution_count": null,
   "id": "a94ebfec",
   "metadata": {},
   "outputs": [],
   "source": []
  },
  {
   "cell_type": "markdown",
   "id": "db6fd2d8",
   "metadata": {},
   "source": [
    "T Test\n",
    "A t-test is a type of inferential statistic which is used to determine if there is a significant difference between the means of two groups which may be related in certain features\n"
   ]
  },
  {
   "cell_type": "code",
   "execution_count": null,
   "id": "c929fde2",
   "metadata": {},
   "outputs": [],
   "source": [
    "ages = [\n",
    "    10,\n",
    "    20,\n",
    "    35,\n",
    "    50,\n",
    "    28,\n",
    "    40,\n",
    "    55,\n",
    "    18,\n",
    "    16,\n",
    "    55,\n",
    "    30,\n",
    "    25,\n",
    "    43,\n",
    "    18,\n",
    "    30,\n",
    "    28,\n",
    "    14,\n",
    "    24,\n",
    "    16,\n",
    "    17,\n",
    "    32,\n",
    "    35,\n",
    "    26,\n",
    "    27,\n",
    "    65,\n",
    "    18,\n",
    "    43,\n",
    "    23,\n",
    "    21,\n",
    "    20,\n",
    "    19,\n",
    "    70,\n",
    "]"
   ]
  },
  {
   "cell_type": "code",
   "execution_count": 11,
   "id": "0b5de021",
   "metadata": {},
   "outputs": [
    {
     "data": {
      "text/plain": [
       "32"
      ]
     },
     "execution_count": 11,
     "metadata": {},
     "output_type": "execute_result"
    }
   ],
   "source": [
    "len(ages)"
   ]
  },
  {
   "cell_type": "code",
   "execution_count": 13,
   "id": "8bfa6783-3158-44c8-bcfa-a2ba7fd49a17",
   "metadata": {},
   "outputs": [
    {
     "data": {
      "text/plain": [
       "list"
      ]
     },
     "execution_count": 13,
     "metadata": {},
     "output_type": "execute_result"
    }
   ],
   "source": [
    "type(ages)"
   ]
  },
  {
   "cell_type": "code",
   "execution_count": null,
   "id": "87f95ac6",
   "metadata": {},
   "outputs": [
    {
     "name": "stdout",
     "output_type": "stream",
     "text": [
      "30.34375\n"
     ]
    }
   ],
   "source": [
    "import numpy as np\n",
    "\n",
    "ages_mean = np.mean(ages)\n",
    "print(ages_mean)"
   ]
  },
  {
   "cell_type": "code",
   "execution_count": null,
   "id": "b05273ff",
   "metadata": {},
   "outputs": [],
   "source": [
    "## Lets take sample\n",
    "\n",
    "sample_size = 10\n",
    "age_sample = np.random.choice(ages, sample_size)"
   ]
  },
  {
   "cell_type": "code",
   "execution_count": 19,
   "id": "18eafbf2",
   "metadata": {},
   "outputs": [
    {
     "data": {
      "text/plain": [
       "array([35, 17, 25, 35, 14, 16, 23, 55, 55, 40])"
      ]
     },
     "execution_count": 19,
     "metadata": {},
     "output_type": "execute_result"
    }
   ],
   "source": [
    "age_sample"
   ]
  },
  {
   "cell_type": "code",
   "execution_count": 21,
   "id": "73467c1f",
   "metadata": {},
   "outputs": [],
   "source": [
    "from scipy.stats import ttest_1samp"
   ]
  },
  {
   "cell_type": "code",
   "execution_count": null,
   "id": "243ccc46",
   "metadata": {},
   "outputs": [],
   "source": [
    "ttest, p_value = ttest_1samp(age_sample, 30)"
   ]
  },
  {
   "cell_type": "code",
   "execution_count": 25,
   "id": "5c7e6e3b",
   "metadata": {},
   "outputs": [
    {
     "name": "stdout",
     "output_type": "stream",
     "text": [
      "0.7617189566053565\n"
     ]
    }
   ],
   "source": [
    "print(p_value)"
   ]
  },
  {
   "cell_type": "code",
   "execution_count": null,
   "id": "6289755f",
   "metadata": {},
   "outputs": [
    {
     "name": "stdout",
     "output_type": "stream",
     "text": [
      "we are accepting null hypothesis\n"
     ]
    }
   ],
   "source": [
    "if p_value < 0.05:  # alpha value is 0.05 or 5%\n",
    "    print(\" we are rejecting null hypothesis\")\n",
    "else:\n",
    "    print(\"we are accepting null hypothesis\")"
   ]
  },
  {
   "cell_type": "code",
   "execution_count": null,
   "id": "a74fdc9d",
   "metadata": {},
   "outputs": [],
   "source": []
  },
  {
   "cell_type": "code",
   "execution_count": null,
   "id": "e6b20f8c-67ab-437c-9b44-2dc3c02fbbd1",
   "metadata": {},
   "outputs": [],
   "source": []
  }
 ],
 "metadata": {
  "kernelspec": {
   "display_name": "Python 3 (ipykernel)",
   "language": "python",
   "name": "python3"
  },
  "language_info": {
   "codemirror_mode": {
    "name": "ipython",
    "version": 3
   },
   "file_extension": ".py",
   "mimetype": "text/x-python",
   "name": "python",
   "nbconvert_exporter": "python",
   "pygments_lexer": "ipython3",
   "version": "3.11.4"
  }
 },
 "nbformat": 4,
 "nbformat_minor": 5
}
