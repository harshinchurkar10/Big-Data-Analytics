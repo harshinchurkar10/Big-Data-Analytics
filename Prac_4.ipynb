{
 "cells": [
  {
   "cell_type": "code",
   "execution_count": null,
   "id": "06d62310",
   "metadata": {},
   "outputs": [],
   "source": [
    "# Name : Harsh Inchurkar\n",
    "# Roll no. : 46\n",
    "# Section : 3A"
   ]
  },
  {
   "cell_type": "code",
   "execution_count": null,
   "id": "47f64109",
   "metadata": {},
   "outputs": [],
   "source": [
    "# Aim : To perform and analysis of Z Test parametric Test"
   ]
  },
  {
   "cell_type": "code",
   "execution_count": null,
   "id": "6f1d2737",
   "metadata": {},
   "outputs": [],
   "source": [
    "import pandas as pd\n",
    "from scipy import stats\n",
    "from statsmodels.stats import weightstats as stests"
   ]
  },
  {
   "cell_type": "code",
   "execution_count": null,
   "id": "611e2beb",
   "metadata": {},
   "outputs": [],
   "source": [
    "# Creating a dataset\n",
    "data = [\n",
    "    89,\n",
    "    93,\n",
    "    95,\n",
    "    93,\n",
    "    97,\n",
    "    98,\n",
    "    96,\n",
    "    99,\n",
    "    93,\n",
    "    97,\n",
    "    110,\n",
    "    104,\n",
    "    119,\n",
    "    105,\n",
    "    104,\n",
    "    110,\n",
    "    110,\n",
    "    112,\n",
    "    115,\n",
    "    114,\n",
    "    26,\n",
    "    65,\n",
    "    76,\n",
    "    87,\n",
    "    98,\n",
    "    23,\n",
    "    45,\n",
    "    67,\n",
    "    89,\n",
    "    90,\n",
    "    87,\n",
    "    76,\n",
    "    65,\n",
    "    54,\n",
    "    43,\n",
    "    32,\n",
    "    21,\n",
    "    67,\n",
    "    78,\n",
    "    79,\n",
    "]"
   ]
  },
  {
   "cell_type": "code",
   "execution_count": 13,
   "id": "2c112219-2eda-46f9-84cc-bcfee8fa3690",
   "metadata": {},
   "outputs": [
    {
     "data": {
      "text/plain": [
       "40"
      ]
     },
     "execution_count": 13,
     "metadata": {},
     "output_type": "execute_result"
    }
   ],
   "source": [
    "len(data)"
   ]
  },
  {
   "cell_type": "code",
   "execution_count": 15,
   "id": "046ca049-daa3-451e-bce2-e4f82f3b0fe1",
   "metadata": {},
   "outputs": [
    {
     "data": {
      "text/plain": [
       "list"
      ]
     },
     "execution_count": 15,
     "metadata": {},
     "output_type": "execute_result"
    }
   ],
   "source": [
    "type(data)"
   ]
  },
  {
   "cell_type": "code",
   "execution_count": null,
   "id": "ac03bd8a-9abf-46dd-9ebf-0e6d8eed674e",
   "metadata": {},
   "outputs": [],
   "source": [
    "# Performing the z-test\n",
    "z_test, p_val = stests.ztest(data)"
   ]
  },
  {
   "cell_type": "code",
   "execution_count": null,
   "id": "dcae389b-1d22-4bd6-b7ae-87fc0e2a80c6",
   "metadata": {},
   "outputs": [
    {
     "name": "stdout",
     "output_type": "stream",
     "text": [
      "1.8388410294011585e-85\n"
     ]
    }
   ],
   "source": [
    "print(p_val)"
   ]
  },
  {
   "cell_type": "code",
   "execution_count": null,
   "id": "06fa716d",
   "metadata": {},
   "outputs": [
    {
     "name": "stdout",
     "output_type": "stream",
     "text": [
      "We can reject the null hypothesis\n"
     ]
    }
   ],
   "source": [
    "# taking the threshold value as 0.05 or 5%\n",
    "if p_val < 0.05:\n",
    "    print(\"We can reject the null hypothesis\")\n",
    "else:\n",
    "    print(\"We can accept the null hypothesis\")"
   ]
  },
  {
   "cell_type": "code",
   "execution_count": null,
   "id": "adc6e8cc",
   "metadata": {},
   "outputs": [],
   "source": []
  }
 ],
 "metadata": {
  "kernelspec": {
   "display_name": "Python 3 (ipykernel)",
   "language": "python",
   "name": "python3"
  },
  "language_info": {
   "codemirror_mode": {
    "name": "ipython",
    "version": 3
   },
   "file_extension": ".py",
   "mimetype": "text/x-python",
   "name": "python",
   "nbconvert_exporter": "python",
   "pygments_lexer": "ipython3",
   "version": "3.11.4"
  }
 },
 "nbformat": 4,
 "nbformat_minor": 5
}
